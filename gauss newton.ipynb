{
 "cells": [
  {
   "cell_type": "code",
   "execution_count": 2,
   "id": "2f5faf95",
   "metadata": {},
   "outputs": [],
   "source": [
    "import numpy as np\n",
    "import matplotlib.pyplot as plt\n",
    "from scipy.optimize import least_squares\n",
    "import scipy.stats as sts\n",
    "import pandas as pd\n",
    "import sympy as sp"
   ]
  },
  {
   "cell_type": "code",
   "execution_count": 32,
   "id": "1a5fec6b",
   "metadata": {},
   "outputs": [
    {
     "data": {
      "text/html": [
       "<div>\n",
       "<style scoped>\n",
       "    .dataframe tbody tr th:only-of-type {\n",
       "        vertical-align: middle;\n",
       "    }\n",
       "\n",
       "    .dataframe tbody tr th {\n",
       "        vertical-align: top;\n",
       "    }\n",
       "\n",
       "    .dataframe thead th {\n",
       "        text-align: right;\n",
       "    }\n",
       "</style>\n",
       "<table border=\"1\" class=\"dataframe\">\n",
       "  <thead>\n",
       "    <tr style=\"text-align: right;\">\n",
       "      <th></th>\n",
       "      <th>X</th>\n",
       "      <th>Y</th>\n",
       "    </tr>\n",
       "  </thead>\n",
       "  <tbody>\n",
       "    <tr>\n",
       "      <th>0</th>\n",
       "      <td>0.02</td>\n",
       "      <td>0.0996</td>\n",
       "    </tr>\n",
       "    <tr>\n",
       "      <th>1</th>\n",
       "      <td>0.04</td>\n",
       "      <td>0.1854</td>\n",
       "    </tr>\n",
       "    <tr>\n",
       "      <th>2</th>\n",
       "      <td>0.06</td>\n",
       "      <td>0.2418</td>\n",
       "    </tr>\n",
       "    <tr>\n",
       "      <th>3</th>\n",
       "      <td>0.08</td>\n",
       "      <td>0.2692</td>\n",
       "    </tr>\n",
       "    <tr>\n",
       "      <th>4</th>\n",
       "      <td>0.10</td>\n",
       "      <td>0.3168</td>\n",
       "    </tr>\n",
       "  </tbody>\n",
       "</table>\n",
       "</div>"
      ],
      "text/plain": [
       "      X       Y\n",
       "0  0.02  0.0996\n",
       "1  0.04  0.1854\n",
       "2  0.06  0.2418\n",
       "3  0.08  0.2692\n",
       "4  0.10  0.3168"
      ]
     },
     "execution_count": 32,
     "metadata": {},
     "output_type": "execute_result"
    }
   ],
   "source": [
    "datos = \n",
    "x_i = datos['X'].values\n",
    "y_i = datos['Y'].values\n",
    "datos.head()"
   ]
  },
  {
   "cell_type": "markdown",
   "id": "fe8a7058",
   "metadata": {},
   "source": [
    "## $E[Y] = \\frac{\\beta_0 X}{\\beta_1 + X} $"
   ]
  },
  {
   "cell_type": "code",
   "execution_count": 9,
   "id": "1210f748",
   "metadata": {},
   "outputs": [
    {
     "data": {
      "text/latex": [
       "$\\displaystyle 50 e^{x \\left(- d + r - \\frac{s^{2}}{2}\\right)}$"
      ],
      "text/plain": [
       "50*exp(x*(-d + r - s**2/2))"
      ]
     },
     "execution_count": 9,
     "metadata": {},
     "output_type": "execute_result"
    }
   ],
   "source": [
    "##################\n",
    "def funcion_num(x, bets): # DEFINIR LA FUNCION PROPUESTA\n",
    "    return 50*np.exp((bets[0] - bets[1] - bets[2]**2 / 2 )*x)\n",
    "\n",
    "\n",
    "# DEFINES MODELO EN SYMPY\n",
    "x, r, d, s = sp.symbols('x, r, d, s')\n",
    "funcion = 50*sp.E**((r-d-s**2 / 2)*x)\n",
    "betas = [r, d, s]\n",
    "# n = len(x_i)\n",
    "# m = len(betas)\n",
    "funcion\n",
    "##################"
   ]
  },
  {
   "cell_type": "code",
   "execution_count": 69,
   "id": "3708af75",
   "metadata": {},
   "outputs": [
    {
     "data": {
      "text/latex": [
       "$\\displaystyle \\frac{b_{1} x}{b_{2} + x}$"
      ],
      "text/plain": [
       "b1*x/(b2 + x)"
      ]
     },
     "execution_count": 69,
     "metadata": {},
     "output_type": "execute_result"
    }
   ],
   "source": [
    "##################\n",
    "def funcion_num(x, bets): # DEFINIR LA FUNCION PROPUESTA\n",
    "    return bets[0]*x / (bets[1] + x)\n",
    "\n",
    "\n",
    "# DEFINES MODELO EN SYMPY\n",
    "x, b1, b2 = sp.symbols('x, b1, b2')\n",
    "funcion = b1*x / (b2 + x)\n",
    "betas = [b1, b2]\n",
    "n = len(x_i)\n",
    "m = len(betas)\n",
    "funcion\n",
    "##################"
   ]
  },
  {
   "cell_type": "code",
   "execution_count": 85,
   "id": "ae55890f",
   "metadata": {},
   "outputs": [
    {
     "data": {
      "image/png": "[encoded data removed]",
      "text/plain": [
       "<Figure size 720x360 with 1 Axes>"
      ]
     },
     "metadata": {
      "needs_background": "light"
     },
     "output_type": "display_data"
    }
   ],
   "source": [
    "plt.figure(figsize=(10, 5))\n",
    "valores = np.linspace(0, 0.8, 100) ################## GENERAR VALORES \n",
    "plt.scatter(x_i, y_i)\n",
    "betas0 = [0.7, .2] ##################\n",
    "plt.plot(valores, funcion_num(valores,betas0), color='red')################## PROBAR DISTINTOS BETAS\n",
    "plt.grid()"
   ]
  },
  {
   "cell_type": "code",
   "execution_count": 68,
   "id": "a9bf52cd",
   "metadata": {},
   "outputs": [
    {
     "data": {
      "text/plain": [
       "[x/(b2 + x), -b1*x/(b2 + x)**2]"
      ]
     },
     "execution_count": 68,
     "metadata": {},
     "output_type": "execute_result"
    }
   ],
   "source": [
    "derivadas = []\n",
    "for i in range(len(betas)):\n",
    "    derivadas.append(sp.diff(funcion, betas[i]))\n",
    "derivadas"
   ]
  },
  {
   "cell_type": "code",
   "execution_count": 86,
   "id": "c596ad0b",
   "metadata": {},
   "outputs": [
    {
     "data": {
      "text/plain": [
       "array([0.59894968, 0.09191336])"
      ]
     },
     "execution_count": 86,
     "metadata": {},
     "output_type": "execute_result"
    }
   ],
   "source": [
    "Z = np.zeros([len(x_i), len(betas)])\n",
    "k = 0\n",
    "distancia = 10\n",
    "while abs(distancia) > 0.00001:\n",
    "    fi = funcion_num(x_i, betas0)\n",
    "    for i in range(len(x_i)):\n",
    "        for j in range(len(betas)):\n",
    "            Z[i, j] = derivadas[j].subs([(x, x_i[i]), (b1, betas0[0]), (b2, betas0[1])]).evalf() #######################\n",
    "\n",
    "    betas1 =  betas0 + (np.linalg.inv(Z.T@Z))@(Z.T)@(y_i - fi)\n",
    "#     distancia = betas1[0] - betas0[0]\n",
    "\n",
    "    # distancia entre las betas nuevas y las betas antiguas\n",
    "    for k in range(len(betas0)):\n",
    "        valsss = []\n",
    "        valsss.append((betas1[k] - betas0[k])**2)\n",
    "        \n",
    "    distancia = np.sqrt(sum(valsss))\n",
    "    betas0 = betas1\n",
    "\n",
    "betas1"
   ]
  },
  {
   "cell_type": "code",
   "execution_count": 87,
   "id": "45df9b75",
   "metadata": {},
   "outputs": [
    {
     "data": {
      "image/png": "[encoded data removed]",
      "text/plain": [
       "<Figure size 720x360 with 1 Axes>"
      ]
     },
     "metadata": {
      "needs_background": "light"
     },
     "output_type": "display_data"
    }
   ],
   "source": [
    "plt.figure(figsize=(10, 5))\n",
    "plt.scatter(x_i, y_i)\n",
    "plt.plot(valores, funcion_num(valores, betas1), color='red')\n",
    "plt.grid()"
   ]
  },
  {
   "cell_type": "code",
   "execution_count": 25,
   "id": "138a3d45",
   "metadata": {},
   "outputs": [],
   "source": [
    "# def mod(x, bets):\n",
    "#     return bets[0] * np.sin(bets[1] + bets[2]*x)"
   ]
  },
  {
   "cell_type": "markdown",
   "id": "0ef97a74",
   "metadata": {},
   "source": [
    "## $\\text{Análisis residual}$"
   ]
  },
  {
   "cell_type": "code",
   "execution_count": 72,
   "id": "a138349d",
   "metadata": {},
   "outputs": [
    {
     "data": {
      "text/plain": [
       "0.00017016733723927731"
      ]
     },
     "execution_count": 72,
     "metadata": {},
     "output_type": "execute_result"
    }
   ],
   "source": [
    "y_ajustadas = funcion_num(x_i, betas1)\n",
    "ei = y_i - y_ajustadas\n",
    "SSres = sum(ei**2)\n",
    "MSres = (1/(n-m)) * SSres\n",
    "MSres "
   ]
  },
  {
   "cell_type": "code",
   "execution_count": 73,
   "id": "1c84848d",
   "metadata": {},
   "outputs": [
    {
     "data": {
      "image/png": "[encoded data removed]",
      "text/plain": [
       "<Figure size 720x360 with 1 Axes>"
      ]
     },
     "metadata": {
      "needs_background": "light"
     },
     "output_type": "display_data"
    }
   ],
   "source": [
    "ei_estandarizados = ei/np.sqrt(MSres)\n",
    "\n",
    "graf = []\n",
    "for i in range(1, len(ei)+1):\n",
    "    graf.append(i)\n",
    "grafs = np.array(graf)\n",
    "\n",
    "plt.figure(figsize=(10, 5))\n",
    "plt.scatter(grafs, ei_estandarizados)\n",
    "plt.title('Residuales estandarizados', fontsize=20)\n",
    "plt.grid()"
   ]
  },
  {
   "cell_type": "code",
   "execution_count": 74,
   "id": "5fb13ef6",
   "metadata": {},
   "outputs": [
    {
     "data": {
      "image/png": "[encoded data removed]",
      "text/plain": [
       "<Figure size 720x360 with 1 Axes>"
      ]
     },
     "metadata": {
      "needs_background": "light"
     },
     "output_type": "display_data"
    }
   ],
   "source": [
    "plt.figure(figsize=(10, 5))\n",
    "plt.scatter(x_i, ei_estandarizados)\n",
    "plt.title('Residuales estandarizados vs regresor', fontsize=20)\n",
    "plt.grid()"
   ]
  }
 ],
 "metadata": {
  "kernelspec": {
   "display_name": "Python 3",
   "language": "python",
   "name": "python3"
  },
  "language_info": {
   "codemirror_mode": {
    "name": "ipython",
    "version": 3
   },
   "file_extension": ".py",
   "mimetype": "text/x-python",
   "name": "python",
   "nbconvert_exporter": "python",
   "pygments_lexer": "ipython3",
   "version": "3.8.8"
  }
 },
 "nbformat": 4,
 "nbformat_minor": 5
}
