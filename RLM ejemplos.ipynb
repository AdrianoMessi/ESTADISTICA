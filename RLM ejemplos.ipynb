{
 "cells": [
  {
   "cell_type": "code",
   "execution_count": 2,
   "id": "65f7563a",
   "metadata": {},
   "outputs": [],
   "source": [
    "import numpy as np\n",
    "import pandas as pd\n",
    "import matplotlib.pyplot as plt\n",
    "import scipy.stats as sts\n",
    "\n",
    "class RLM:\n",
    "    def __init__(self, data):\n",
    "        # input: dataframe = x1, x2, ... , xm, y\n",
    "        \n",
    "        self.Y = data[data.columns[-1]].values # Y values\n",
    "        self.X = data[data.columns[:-1]]\n",
    "        self.X.insert(0, 'N', 1)\n",
    "        self.X = self.X.to_numpy()  # design matrix\n",
    "        self.datosb = data.copy()\n",
    "        self.datosf = data.copy()\n",
    "        \n",
    "        self.n, self.p = self.X.shape\n",
    "        self.m = self.p - 1\n",
    "        \n",
    "    def betas(self):\n",
    "        return np.linalg.inv(self.X.T @ self.X) @ self.X.T @ self.Y\n",
    "    \n",
    "    def ajustados(self):\n",
    "        return self.X @ RLM.betas(self)\n",
    "    \n",
    "    \n",
    "    def SSres(self):\n",
    "        return np.sum((self.Y - RLM.ajustados(self))**2)\n",
    "    \n",
    "    def MSres(self):\n",
    "        return RLM.SSres(self) / (self.n - (self.m + 1))\n",
    "    \n",
    "    def varcovbetas(self):\n",
    "        return RLM.MSres(self) * np.linalg.inv(self.X.T @ self.X)\n",
    "    \n",
    "    def varbetas(self):\n",
    "        return np.diag(RLM.varcovbetas(self))\n",
    "    \n",
    "    def SEbetas(self):\n",
    "        return np.sqrt(RLM.varbetas(self))\n",
    "    \n",
    "    def hatmatrix(self):\n",
    "        return self.X @ np.linalg.inv(self.X.T @ self.X) @ self.X.T\n",
    "    \n",
    "    def SSr(self):\n",
    "        return np.sum((RLM.ajustados(self) - np.mean(self.Y))**2)\n",
    "    \n",
    "    def SSt(self):\n",
    "        return np.sum((self.Y - np.mean(self.Y))**2)\n",
    "    \n",
    "    def MSr(self):\n",
    "        return RLM.SSr(self) / self.m\n",
    "    \n",
    "    def f0(self):\n",
    "        return RLM.MSr(self) / RLM.MSres(self)\n",
    "    \n",
    "    def significancia(self):\n",
    "        return sts.f.cdf(RLM.f0(self), self.m, self.n - (self.m + 1))\n",
    "\n",
    "    def estadisticos_t(self):\n",
    "        estadisticos_t_individuales = list(abs(RLM.betas(self) / RLM.SEbetas(self)))\n",
    "        estadisticos_t_individuales.pop(0)\n",
    "        return estadisticos_t_individuales\n",
    "    \n",
    "    def significancias_t(self):\n",
    "        return list(sts.t.cdf(np.array(RLM.estadisticos_t(self)), self.n - (self.m + 1)) - sts.t.cdf(-np.array(RLM.estadisticos_t(self)), self.n - (self.m + 1)))\n",
    "        \n",
    "    def backwards(self):\n",
    "        for j in range(self.m - 1):\n",
    "            \n",
    "            signifs = []\n",
    "            for i in range(0, len(self.datosb.iloc[0]) - 1):\n",
    "                datos_i = self.datosb.copy()\n",
    "                datos_i.drop(datos_i.columns[i], axis=1, inplace=True)\n",
    "                signifs.append(RLM(datos_i).significancia()) # criterioooo\n",
    "                \n",
    "            x_menos_signif = signifs.index(max(signifs)) + 1\n",
    "\n",
    "            if RLM(self.datosb).significancia() > max(signifs):  # criteriooo\n",
    "                print(f'Modelo:{self.datosb.columns.values[:]}, significancia:{RLM(self.datosb).significancia()}')\n",
    "                break\n",
    "            else:\n",
    "                self.datosb.drop(self.datosb.columns[x_menos_signif - 1], axis=1, inplace=True)\n",
    "                print(f'Modelo:{self.datosb.columns.values[:]}, significancia:{RLM(self.datosb).significancia()}')\n",
    "                \n",
    "                \n",
    "#     def forward(self):\n",
    "#         signifs = []\n",
    "#         for i in range(self.m):\n",
    "#             datos_i = self.datosf.copy()\n",
    "#             datos_i.drop(datos_i.columns[0:i], axis=1, inplace=True) # se modifican los datos para probar a cada uno\n",
    "#             datos_i.drop(datos_i.columns[1:-1], axis=1, inplace=True)\n",
    "#             signifs.append(RLM(datos_i).significancia())\n",
    "            \n",
    "#         x_mas_signif = signifs.index(max(signifs)) + 1\n",
    "#         datos_i = self.datosf.copy()\n",
    "#         datos_i.drop(datos_i.columns[0:x_mas_signif-1], axis=1, inplace=True) # se guarda el modelo con signif mas alta\n",
    "#         datos_i.drop(datos_i.columns[1:-1], axis=1, inplace=True)\n",
    "#         self.datosf.drop(self.datosf.columns[x_mas_signif-1], axis=1, inplace=True) # actualizamos los datos completos quitando al mas signif\n",
    "    \n",
    "#         for j in range(self.m - 1):\n",
    "            \n",
    "#         for j in range(self.m - 1):\n",
    "\n",
    "\n",
    "    def residuales(self):\n",
    "        return self.Y - RLM.ajustados(self)\n",
    "    \n",
    "    \n",
    "    def residuales_est(self):\n",
    "        return RLM.residuales(self)/np.sqrt(RLM.MSres(self))\n",
    "    \n",
    "    def graficar_res_est(self):\n",
    "        ez = RLM.residuales_est(self)\n",
    "        valores = np.arange(1,len(ez)+1)\n",
    "        plt.plot(valores,ez,\"o\")\n",
    "        plt.title('GRAFICA RESIDUALES ESTANDARIZADOS')\n",
    "        plt.grid()\n",
    "        plt.show()\n",
    "\n",
    "    \n",
    "    def prueba_individual(self, valor_propuesto, i, alpha): \n",
    "        estadisticos = abs((RLM.betas(self) - valor_propuesto) / RLM.SEbetas(self))\n",
    "        estadistico_betai = estadisticos[i]\n",
    "        t = sts.t.ppf(1-alpha/2, self.n-(self.m+1)) \n",
    "        if abs(estadistico_betai) < t:\n",
    "            resultado = 'Se acepta H0'\n",
    "        else:\n",
    "            resultado = 'Se rechaza H0'\n",
    "        return estadistico_betai, t, resultado\n",
    "    \n",
    "    def r2adj(self):\n",
    "        return 1 - ( RLM.MSres(self) / ((RLM.SSt(self) / (self.n - 1))))\n",
    "    \n",
    "    def splines(self, tipo, knots):\n",
    "        f, c = self.X.shape\n",
    "        if c > 2:\n",
    "            return('El modelo contiene más de un regresor')\n",
    "        muestra = self.X.copy()\n",
    "        muestra = pd.DataFrame(muestra)\n",
    "        muestra.drop(muestra.columns[0], axis=1, inplace=True)\n",
    "        xvalues = muestra[1].values\n",
    "        # generar valores para graficar \n",
    "        valores = []\n",
    "        knots.sort()\n",
    "        for i in range(len(knots)+1):\n",
    "            if i == 0:\n",
    "                valores.append(np.linspace(min(xvalues), knots[i], 100))\n",
    "            elif i == len(knots):\n",
    "                valores.append(np.linspace(knots[i-1], max(xvalues), 100))\n",
    "            else:\n",
    "                valores.append(np.linspace(knots[i-1], knots[i], 100))\n",
    "        \n",
    "        # generar los modelos y los datos correspondientes\n",
    "        n_modelos = len(knots) + 1\n",
    "        if tipo == 'cuadradosc':\n",
    "            for i in range(len(knots)):\n",
    "                nom1 = str(i) + 'r1'\n",
    "                nom2 = str(i) + 'r2'\n",
    "                muestra['x2'] = xvalues**2\n",
    "                muestra[nom1] = (xvalues - knots[i])\n",
    "                muestra[nom2] = (xvalues - knots[i])**2\n",
    "                muestra.loc[muestra[1] < knots[i], [nom1]] = 0\n",
    "                muestra.loc[muestra[1] < knots[i], [nom2]] = 0\n",
    "            muestra['Y'] = self.Y  # ojoo no nombrar con otro nombre\n",
    "            muestranp = muestra.to_numpy()\n",
    "            \n",
    "            \n",
    "            \n",
    "            betas = RLM(muestra).betas()\n",
    "\n",
    "            def mod0(x):\n",
    "                return betas[0] + betas[1]*x + betas[2]*x**2\n",
    "            \n",
    "            \n",
    "            modelos = [mod0]\n",
    "            for i in range(1):\n",
    "                def modi(x):\n",
    "                    return betas[i + 3]*(x-knots[i]) + betas[i + 4]*(x-knots[i])**2\n",
    "                modelos.append(modi)\n",
    "                def modi1(x):\n",
    "                    return betas[i + 5]*(x-knots[1]) + betas[i + 6]*(x-knots[1])**2\n",
    "                modelos.append(modi1)\n",
    "                def modi2(x):\n",
    "                    return betas[i + 7]*(x-knots[2]) + betas[i + 8]*(x-knots[2])**2\n",
    "                modelos.append(modi2)\n",
    "                def modi3(x):\n",
    "                    return betas[i + 9]*(x-knots[3]) + betas[i + 10]*(x-knots[3])**2\n",
    "                modelos.append(modi3)\n",
    "#             return modelos\n",
    "            # crear funcion que crea lista de la acumulacion de las funciones\n",
    "            def sumasmod(funciones):\n",
    "                funciones_acumuladas = []\n",
    "                acumulador = None\n",
    "                for funcion in funciones:\n",
    "                    if acumulador is None:\n",
    "                        acumulador = funcion\n",
    "                    else:\n",
    "                        def acumulada(x, acumulador=acumulador, funcion=funcion):\n",
    "                            return acumulador(x) + funcion(x)\n",
    "                        acumulador = acumulada\n",
    "                    funciones_acumuladas.append(acumulador)\n",
    "                return funciones_acumuladas\n",
    "            \n",
    "            grafica = RLM(muestra).graficar_res_est()\n",
    "            return sumasmod(modelos), valores, xvalues, self.Y, n_modelos, muestra\n",
    "\n",
    "############################################################################################\n",
    "            mod_final = []\n",
    "            for i in range(n_modelos):\n",
    "                mod_final.append(modelos_listos[i])\n",
    "            \n",
    "            return modelos_listos\n",
    "#             def a(x):\n",
    "#                 return betas[0] + betas[1]*x + betas[2]*x**2\n",
    "#             def b(x):\n",
    "#                 return a(x) + betas[3]*(x-knots[0]) + betas[4]*(x-knots[0])**2\n",
    "#             modelos_listos = [a, b]\n",
    "\n",
    "            \n",
    "\n",
    "\n",
    "            for i in range(n_modelos):\n",
    "#                 plt.figure(figsize=(10, 5))\n",
    "#                 plt.scatter(xvalues, self.Y) \n",
    "                plt.plot(valores[i], modelos_listos[i](valores[i]))\n",
    "    \n",
    "            plt.scatter(xvalues, self.Y)\n",
    "            plt.xlabel('X-axis')\n",
    "            plt.ylabel('Y-axis')\n",
    "            plt.legend()\n",
    "            plt.title('SPLINES CUADRATICOS CONTINUOS')\n",
    "            plt.grid(True)\n",
    "\n",
    "            # Show the plot\n",
    "            plt.show()\n",
    "            \n",
    "##### ##### #######3 ######3                ###########################################3\n",
    "        elif tipo == 'cuadradoss':\n",
    "            for i in range(len(knots)):\n",
    "                nom2 = str(i) + 'r2'\n",
    "                muestra['x2'] = xvalues**2\n",
    "                muestra[nom2] = (xvalues - knots[i])**2\n",
    "                muestra.loc[muestra[1] < knots[i], [nom2]] = 0\n",
    "            muestra['Y'] = self.Y  # ojoo no nombrar con otro nombre\n",
    "            muestranp = muestra.to_numpy()  \n",
    "            betas = RLM(muestra).betas()\n",
    "            \n",
    "            def mod0(x):\n",
    "                return betas[0] + betas[1]*x + betas[2]*x**2\n",
    "                        \n",
    "            modelos = [mod0]\n",
    "            for i in range(1):\n",
    "                def modi(x):\n",
    "                    return betas[i + 3]*(x-knots[i])**2\n",
    "                modelos.append(modi)\n",
    "                def modi1(x):\n",
    "                    return betas[i + 4]*(x-knots[1])**2\n",
    "                modelos.append(modi1)\n",
    "                def modi2(x):\n",
    "                    return betas[i + 5]*(x-knots[2])**2\n",
    "                modelos.append(modi2)\n",
    "                def modi3(x):\n",
    "                    return betas[i + 6]*(x-knots[3])**2\n",
    "                modelos.append(modi3)\n",
    "\n",
    "#             return modelos\n",
    "            # crear funcion que crea lista de la acumulacion de las funciones\n",
    "            def sumasmod(funciones):\n",
    "                funciones_acumuladas = []\n",
    "                acumulador = None\n",
    "                for funcion in funciones:\n",
    "                    if acumulador is None:\n",
    "                        acumulador = funcion\n",
    "                    else:\n",
    "                        def acumulada(x, acumulador=acumulador, funcion=funcion):\n",
    "                            return acumulador(x) + funcion(x)\n",
    "                        acumulador = acumulada\n",
    "                    funciones_acumuladas.append(acumulador)\n",
    "                return funciones_acumuladas\n",
    "            grafica = RLM(muestra).graficar_res_est()\n",
    "            return sumasmod(modelos), valores, xvalues, self.Y, n_modelos, muestra\n",
    "        \n",
    "        elif tipo == 'cubicosc':\n",
    "            for i in range(len(knots)):\n",
    "                nom1 = str(i) + 'r1'\n",
    "                nom2 = str(i) + 'r2'\n",
    "                nom3 = str(i) + 'r3'\n",
    "                \n",
    "                muestra['x2'] = xvalues**2\n",
    "                muestra['x3'] = xvalues**3\n",
    "                muestra[nom1] = (xvalues - knots[i])\n",
    "                muestra[nom2] = (xvalues - knots[i])**2\n",
    "                muestra[nom3] = (xvalues - knots[i])**3\n",
    "                muestra.loc[muestra[1] < knots[i], [nom1]] = 0\n",
    "                muestra.loc[muestra[1] < knots[i], [nom2]] = 0\n",
    "                muestra.loc[muestra[1] < knots[i], [nom3]] = 0\n",
    "            muestra['Y'] = self.Y  # ojoo no nombrar con otro nombre\n",
    "            muestranp = muestra.to_numpy()\n",
    "            \n",
    "            \n",
    "            betas = RLM(muestra).betas()\n",
    "            \n",
    "            def mod0(x):\n",
    "                return betas[0] + betas[1]*x + betas[2]*x**2 + betas[3]*x**3\n",
    "            \n",
    "            \n",
    "            modelos = [mod0]\n",
    "            for i in range(1):\n",
    "                def modi(x):\n",
    "                    return betas[i + 4]*(x-knots[i]) + betas[i + 5]*(x-knots[i])**2 + betas[i + 6]*(x-knots[i])**3\n",
    "                modelos.append(modi)\n",
    "                def modi1(x):\n",
    "                    return betas[i + 7]*(x-knots[1]) + betas[i + 8]*(x-knots[1])**2 + betas[i + 9]*(x-knots[1])**3\n",
    "\n",
    "                modelos.append(modi1)\n",
    "                def modi2(x):\n",
    "                    return betas[i + 10]*(x-knots[2]) + betas[i + 11]*(x-knots[2])**2 + betas[i + 12]*(x-knots[2])**3\n",
    "\n",
    "                modelos.append(modi2)\n",
    "                def modi3(x):\n",
    "                    return betas[i + 13]*(x-knots[3]) + betas[i + 14]*(x-knots[3])**2 + betas[i + 15]*(x-knots[3])**3\n",
    "\n",
    "                modelos.append(modi3)\n",
    "#             return modelos\n",
    "            # crear funcion que crea lista de la acumulacion de las funciones\n",
    "            def sumasmod(funciones):\n",
    "                funciones_acumuladas = []\n",
    "                acumulador = None\n",
    "                for funcion in funciones:\n",
    "                    if acumulador is None:\n",
    "                        acumulador = funcion\n",
    "                    else:\n",
    "                        def acumulada(x, acumulador=acumulador, funcion=funcion):\n",
    "                            return acumulador(x) + funcion(x)\n",
    "                        acumulador = acumulada\n",
    "                    funciones_acumuladas.append(acumulador)\n",
    "                return funciones_acumuladas\n",
    "\n",
    "            grafica = RLM(muestra).graficar_res_est()\n",
    "            return sumasmod(modelos), valores, xvalues, self.Y, n_modelos, muestra\n",
    "        \n",
    "        elif tipo == 'cubicoss':\n",
    "            for i in range(len(knots)):\n",
    "                nom3 = str(i) + 'r3'\n",
    "                muestra['x2'] = xvalues**2\n",
    "                muestra['x3'] = xvalues**3\n",
    "                muestra[nom3] = (xvalues - knots[i])**3\n",
    "\n",
    "                muestra.loc[muestra[1] < knots[i], [nom3]] = 0\n",
    "            muestra['Y'] = self.Y  # ojoo no nombrar con otro nombre\n",
    "            muestranp = muestra.to_numpy()\n",
    "            \n",
    "            betas = RLM(muestra).betas()\n",
    "            \n",
    "            def mod0(x):\n",
    "                return betas[0] + betas[1]*x + betas[2]*x**2 + betas[3]*x**3\n",
    "            \n",
    "            \n",
    "            modelos = [mod0]\n",
    "            for i in range(1):\n",
    "                def modi(x):\n",
    "                    return betas[i + 4]*(x-knots[i])**3\n",
    "                modelos.append(modi)\n",
    "                def modi1(x):\n",
    "                    return betas[i + 5]*(x-knots[1])**3\n",
    "                modelos.append(modi1)\n",
    "                def modi2(x):\n",
    "                    return betas[i + 6]*(x-knots[2])**3\n",
    "                modelos.append(modi2)\n",
    "                def modi3(x):\n",
    "                    return betas[i + 7]*(x-knots[3])**3\n",
    "                modelos.append(modi3)\n",
    "\n",
    "#             return modelos\n",
    "            # crear funcion que crea lista de la acumulacion de las funciones\n",
    "            def sumasmod(funciones):\n",
    "                funciones_acumuladas = []\n",
    "                acumulador = None\n",
    "                for funcion in funciones:\n",
    "                    if acumulador is None:\n",
    "                        acumulador = funcion\n",
    "                    else:\n",
    "                        def acumulada(x, acumulador=acumulador, funcion=funcion):\n",
    "                            return acumulador(x) + funcion(x)\n",
    "                        acumulador = acumulada\n",
    "                    funciones_acumuladas.append(acumulador)\n",
    "                return funciones_acumuladas\n",
    "            grafica = RLM(muestra).graficar_res_est()\n",
    "            return sumasmod(modelos), valores, xvalues, self.Y, n_modelos, muestra"
   ]
  },
  {
   "cell_type": "markdown",
   "id": "dcf83142",
   "metadata": {},
   "source": [
    "### Ejemplo de uso"
   ]
  },
  {
   "cell_type": "code",
   "execution_count": 10,
   "id": "427845a1",
   "metadata": {},
   "outputs": [
    {
     "data": {
      "text/html": [
       "<div>\n",
       "<style scoped>\n",
       "    .dataframe tbody tr th:only-of-type {\n",
       "        vertical-align: middle;\n",
       "    }\n",
       "\n",
       "    .dataframe tbody tr th {\n",
       "        vertical-align: top;\n",
       "    }\n",
       "\n",
       "    .dataframe thead th {\n",
       "        text-align: right;\n",
       "    }\n",
       "</style>\n",
       "<table border=\"1\" class=\"dataframe\">\n",
       "  <thead>\n",
       "    <tr style=\"text-align: right;\">\n",
       "      <th></th>\n",
       "      <th>X1</th>\n",
       "      <th>X2</th>\n",
       "      <th>X3</th>\n",
       "      <th>X4</th>\n",
       "      <th>X5</th>\n",
       "      <th>X6</th>\n",
       "      <th>X7</th>\n",
       "      <th>X8</th>\n",
       "      <th>Y</th>\n",
       "    </tr>\n",
       "  </thead>\n",
       "  <tbody>\n",
       "    <tr>\n",
       "      <th>0</th>\n",
       "      <td>2</td>\n",
       "      <td>4</td>\n",
       "      <td>0</td>\n",
       "      <td>0</td>\n",
       "      <td>5</td>\n",
       "      <td>4</td>\n",
       "      <td>1</td>\n",
       "      <td>0</td>\n",
       "      <td>-3</td>\n",
       "    </tr>\n",
       "    <tr>\n",
       "      <th>1</th>\n",
       "      <td>1</td>\n",
       "      <td>1</td>\n",
       "      <td>1</td>\n",
       "      <td>2</td>\n",
       "      <td>0</td>\n",
       "      <td>1</td>\n",
       "      <td>5</td>\n",
       "      <td>1</td>\n",
       "      <td>10</td>\n",
       "    </tr>\n",
       "    <tr>\n",
       "      <th>2</th>\n",
       "      <td>3</td>\n",
       "      <td>3</td>\n",
       "      <td>3</td>\n",
       "      <td>2</td>\n",
       "      <td>5</td>\n",
       "      <td>4</td>\n",
       "      <td>0</td>\n",
       "      <td>5</td>\n",
       "      <td>11</td>\n",
       "    </tr>\n",
       "    <tr>\n",
       "      <th>3</th>\n",
       "      <td>0</td>\n",
       "      <td>5</td>\n",
       "      <td>4</td>\n",
       "      <td>2</td>\n",
       "      <td>5</td>\n",
       "      <td>1</td>\n",
       "      <td>3</td>\n",
       "      <td>3</td>\n",
       "      <td>15</td>\n",
       "    </tr>\n",
       "    <tr>\n",
       "      <th>4</th>\n",
       "      <td>3</td>\n",
       "      <td>0</td>\n",
       "      <td>2</td>\n",
       "      <td>0</td>\n",
       "      <td>3</td>\n",
       "      <td>0</td>\n",
       "      <td>1</td>\n",
       "      <td>0</td>\n",
       "      <td>-1</td>\n",
       "    </tr>\n",
       "  </tbody>\n",
       "</table>\n",
       "</div>"
      ],
      "text/plain": [
       "   X1  X2  X3  X4  X5  X6  X7  X8   Y\n",
       "0   2   4   0   0   5   4   1   0  -3\n",
       "1   1   1   1   2   0   1   5   1  10\n",
       "2   3   3   3   2   5   4   0   5  11\n",
       "3   0   5   4   2   5   1   3   3  15\n",
       "4   3   0   2   0   3   0   1   0  -1"
      ]
     },
     "execution_count": 10,
     "metadata": {},
     "output_type": "execute_result"
    }
   ],
   "source": [
    "datos = pd.read_csv(\"muestraparcial.csv\")\n",
    "datos.head()"
   ]
  },
  {
   "cell_type": "code",
   "execution_count": 11,
   "id": "f47f7f11",
   "metadata": {},
   "outputs": [],
   "source": [
    "modelo = RLM(datos)"
   ]
  },
  {
   "cell_type": "code",
   "execution_count": 12,
   "id": "e867cc99",
   "metadata": {},
   "outputs": [
    {
     "data": {
      "text/plain": [
       "0.5875816501808258"
      ]
     },
     "execution_count": 12,
     "metadata": {},
     "output_type": "execute_result"
    }
   ],
   "source": [
    "modelo.r2adj()"
   ]
  },
  {
   "cell_type": "code",
   "execution_count": 13,
   "id": "97490481",
   "metadata": {},
   "outputs": [
    {
     "data": {
      "text/plain": [
       "array([-9.38465201, -0.18246703,  1.13113272,  1.23020004,  1.29903787,\n",
       "        0.45139717, -0.42881903,  1.56146556,  1.70634837])"
      ]
     },
     "execution_count": 13,
     "metadata": {},
     "output_type": "execute_result"
    }
   ],
   "source": [
    "modelo.betas()"
   ]
  },
  {
   "cell_type": "code",
   "execution_count": 14,
   "id": "e9dd7ef0",
   "metadata": {},
   "outputs": [
    {
     "name": "stdout",
     "output_type": "stream",
     "text": [
      "Modelo:['X2' 'X3' 'X4' 'X5' 'X6' 'X7' 'X8' 'Y'], significancia:0.9999999411867245\n",
      "Modelo:['X2' 'X3' 'X4' 'X6' 'X7' 'X8' 'Y'], significancia:0.9999999778929842\n",
      "Modelo:['X2' 'X3' 'X4' 'X7' 'X8' 'Y'], significancia:0.9999999915612922\n",
      "Modelo:['X2' 'X3' 'X4' 'X7' 'X8' 'Y'], significancia:0.9999999915612922\n"
     ]
    }
   ],
   "source": [
    "modelo.backwards()"
   ]
  },
  {
   "cell_type": "code",
   "execution_count": 15,
   "id": "330db309",
   "metadata": {},
   "outputs": [
    {
     "data": {
      "text/plain": [
       "2613.3800000000006"
      ]
     },
     "execution_count": 15,
     "metadata": {},
     "output_type": "execute_result"
    }
   ],
   "source": [
    "modelo.SSr() + modelo.SSres() "
   ]
  },
  {
   "cell_type": "code",
   "execution_count": 16,
   "id": "3b87dc3a",
   "metadata": {},
   "outputs": [
    {
     "data": {
      "text/plain": [
       "2613.3800000000006"
      ]
     },
     "execution_count": 16,
     "metadata": {},
     "output_type": "execute_result"
    }
   ],
   "source": [
    "modelo.SSt()"
   ]
  },
  {
   "cell_type": "markdown",
   "id": "0edaae95",
   "metadata": {},
   "source": [
    "### SPLINES "
   ]
  },
  {
   "cell_type": "code",
   "execution_count": 51,
   "id": "3076ed2e",
   "metadata": {},
   "outputs": [
    {
     "data": {
      "text/html": [
       "<div>\n",
       "<style scoped>\n",
       "    .dataframe tbody tr th:only-of-type {\n",
       "        vertical-align: middle;\n",
       "    }\n",
       "\n",
       "    .dataframe tbody tr th {\n",
       "        vertical-align: top;\n",
       "    }\n",
       "\n",
       "    .dataframe thead th {\n",
       "        text-align: right;\n",
       "    }\n",
       "</style>\n",
       "<table border=\"1\" class=\"dataframe\">\n",
       "  <thead>\n",
       "    <tr style=\"text-align: right;\">\n",
       "      <th></th>\n",
       "      <th>X</th>\n",
       "      <th>Y</th>\n",
       "    </tr>\n",
       "  </thead>\n",
       "  <tbody>\n",
       "    <tr>\n",
       "      <th>0</th>\n",
       "      <td>0.0544</td>\n",
       "      <td>1.9293</td>\n",
       "    </tr>\n",
       "    <tr>\n",
       "      <th>1</th>\n",
       "      <td>0.0546</td>\n",
       "      <td>2.3953</td>\n",
       "    </tr>\n",
       "    <tr>\n",
       "      <th>2</th>\n",
       "      <td>0.3797</td>\n",
       "      <td>4.0164</td>\n",
       "    </tr>\n",
       "    <tr>\n",
       "      <th>3</th>\n",
       "      <td>0.5865</td>\n",
       "      <td>3.0239</td>\n",
       "    </tr>\n",
       "    <tr>\n",
       "      <th>4</th>\n",
       "      <td>0.6862</td>\n",
       "      <td>2.3868</td>\n",
       "    </tr>\n",
       "  </tbody>\n",
       "</table>\n",
       "</div>"
      ],
      "text/plain": [
       "        X       Y\n",
       "0  0.0544  1.9293\n",
       "1  0.0546  2.3953\n",
       "2  0.3797  4.0164\n",
       "3  0.5865  3.0239\n",
       "4  0.6862  2.3868"
      ]
     },
     "execution_count": 51,
     "metadata": {},
     "output_type": "execute_result"
    }
   ],
   "source": [
    "datos = pd.read_csv('Muestra3.csv')\n",
    "datos.head()"
   ]
  },
  {
   "cell_type": "code",
   "execution_count": 31,
   "id": "e7580bd7",
   "metadata": {},
   "outputs": [
    {
     "data": {
      "text/plain": [
       "<matplotlib.collections.PathCollection at 0x1c33a95d310>"
      ]
     },
     "execution_count": 31,
     "metadata": {},
     "output_type": "execute_result"
    },
    {
     "data": {
      "image/png": "[encoded data removed]",
      "text/plain": [
       "<Figure size 720x360 with 1 Axes>"
      ]
     },
     "metadata": {
      "needs_background": "light"
     },
     "output_type": "display_data"
    }
   ],
   "source": [
    "x = datos['X']\n",
    "y = datos['Y']\n",
    "plt.figure(figsize=(10, 5))\n",
    "plt.grid()\n",
    "plt.scatter(x, y)"
   ]
  },
  {
   "cell_type": "code",
   "execution_count": 35,
   "id": "6a36a30b",
   "metadata": {},
   "outputs": [],
   "source": [
    "modelo = RLM(datos)"
   ]
  },
  {
   "cell_type": "code",
   "execution_count": 47,
   "id": "fccf91fc",
   "metadata": {},
   "outputs": [
    {
     "data": {
      "image/png": "[encoded data removed]",
      "text/plain": [
       "<Figure size 432x288 with 1 Axes>"
      ]
     },
     "metadata": {
      "needs_background": "light"
     },
     "output_type": "display_data"
    },
    {
     "data": {
      "image/png": "[encoded data removed]",
      "text/plain": [
       "<Figure size 432x288 with 1 Axes>"
      ]
     },
     "metadata": {
      "needs_background": "light"
     },
     "output_type": "display_data"
    }
   ],
   "source": [
    "mod, val, x, y, n , muestra = modelo.splines('cuadradosc', [1.1561, 2.2971, 3.6645])\n",
    "for i in range(n):\n",
    "    plt.plot(val[i], mod[i](val[i]))\n",
    "plt.scatter(x, y)\n",
    "plt.grid()"
   ]
  },
  {
   "cell_type": "code",
   "execution_count": 50,
   "id": "2c5cde01",
   "metadata": {},
   "outputs": [
    {
     "data": {
      "image/png": "[encoded data removed]",
      "text/plain": [
       "<Figure size 432x288 with 1 Axes>"
      ]
     },
     "metadata": {
      "needs_background": "light"
     },
     "output_type": "display_data"
    },
    {
     "data": {
      "image/png": "[encoded data removed]",
      "text/plain": [
       "<Figure size 432x288 with 1 Axes>"
      ]
     },
     "metadata": {
      "needs_background": "light"
     },
     "output_type": "display_data"
    }
   ],
   "source": [
    "mod, val, x, y, n , muestra = modelo.splines('cubicosc', [1.1561, 2.2971, 3.6645])\n",
    "for i in range(n):\n",
    "    plt.plot(val[i], mod[i](val[i]))\n",
    "plt.scatter(x, y)\n",
    "plt.grid()"
   ]
  },
  {
   "cell_type": "markdown",
   "id": "432b2691",
   "metadata": {},
   "source": [
    "### Modelo simple"
   ]
  },
  {
   "cell_type": "code",
   "execution_count": 178,
   "id": "5a742bd1",
   "metadata": {},
   "outputs": [],
   "source": [
    "class RLS:\n",
    "    def __init__(self, x, y):\n",
    "        self.x = np.array(x)\n",
    "        self.y = np.array(y)\n",
    "        \n",
    "    def xbarra(self):\n",
    "        return np.mean(x)\n",
    "    \n",
    "    def ybarra(self):\n",
    "        return np.mean(y)\n",
    "    \n",
    "    def Sxx(self):\n",
    "        return np.sum((self.x - RLS.xbarra(self))**2)\n",
    "    \n",
    "    def Sxy(self):\n",
    "        return np.sum((self.x - RLS.xbarra(self))*(self.y - RLS.ybarra(self)))\n",
    "    \n",
    "    def betas(self):\n",
    "        return [RLS.ybarra(self) - RLS.xbarra(self)*(RLS.Sxy(self) / RLS.Sxx(self)), RLS.Sxy(self) / RLS.Sxx(self)]\n",
    "    \n",
    "    def ajustados(self):\n",
    "        return np.array(RLS.betas(self)[0] + RLS.betas(self)[1]*self.x)\n",
    "    \n",
    "    def modelo(self, a):\n",
    "        return RLS.betas(self)[0] + RLS.betas(self)[1]*a\n",
    "    \n",
    "    def grafica(self):\n",
    "        plt.scatter(self.x, self.y)\n",
    "        plt.plot(self.x, RLS.modelo(self, self.x), color='red')\n",
    "        plt.grid()\n",
    "        \n",
    "    def prueba_2colas(self, valor_propuesto, i, alpha):\n",
    "        estadístico = abs(RLS.betas(self)[i] - valor_propuesto)\n"
   ]
  },
  {
   "cell_type": "code",
   "execution_count": 175,
   "id": "6f71a071",
   "metadata": {},
   "outputs": [],
   "source": [
    "datos = pd.read_csv('practicapaco.csv')\n",
    "x = datos['X']\n",
    "y = datos['Y']\n"
   ]
  },
  {
   "cell_type": "code",
   "execution_count": 126,
   "id": "3d6c28e4",
   "metadata": {},
   "outputs": [
    {
     "data": {
      "text/html": [
       "<div>\n",
       "<style scoped>\n",
       "    .dataframe tbody tr th:only-of-type {\n",
       "        vertical-align: middle;\n",
       "    }\n",
       "\n",
       "    .dataframe tbody tr th {\n",
       "        vertical-align: top;\n",
       "    }\n",
       "\n",
       "    .dataframe thead th {\n",
       "        text-align: right;\n",
       "    }\n",
       "</style>\n",
       "<table border=\"1\" class=\"dataframe\">\n",
       "  <thead>\n",
       "    <tr style=\"text-align: right;\">\n",
       "      <th></th>\n",
       "      <th>X</th>\n",
       "      <th>Y</th>\n",
       "    </tr>\n",
       "  </thead>\n",
       "  <tbody>\n",
       "    <tr>\n",
       "      <th>0</th>\n",
       "      <td>11.21</td>\n",
       "      <td>16.56</td>\n",
       "    </tr>\n",
       "    <tr>\n",
       "      <th>1</th>\n",
       "      <td>14.58</td>\n",
       "      <td>21.20</td>\n",
       "    </tr>\n",
       "    <tr>\n",
       "      <th>2</th>\n",
       "      <td>4.10</td>\n",
       "      <td>7.54</td>\n",
       "    </tr>\n",
       "    <tr>\n",
       "      <th>3</th>\n",
       "      <td>19.27</td>\n",
       "      <td>24.98</td>\n",
       "    </tr>\n",
       "    <tr>\n",
       "      <th>4</th>\n",
       "      <td>7.38</td>\n",
       "      <td>9.75</td>\n",
       "    </tr>\n",
       "  </tbody>\n",
       "</table>\n",
       "</div>"
      ],
      "text/plain": [
       "       X      Y\n",
       "0  11.21  16.56\n",
       "1  14.58  21.20\n",
       "2   4.10   7.54\n",
       "3  19.27  24.98\n",
       "4   7.38   9.75"
      ]
     },
     "execution_count": 126,
     "metadata": {},
     "output_type": "execute_result"
    }
   ],
   "source": [
    "datos.head()"
   ]
  },
  {
   "cell_type": "code",
   "execution_count": 129,
   "id": "e73cb2c1",
   "metadata": {},
   "outputs": [],
   "source": [
    "rlsa = RLS(x, y)"
   ]
  },
  {
   "cell_type": "code",
   "execution_count": 136,
   "id": "7ce254b0",
   "metadata": {},
   "outputs": [
    {
     "data": {
      "image/png": "[encoded data removed]",
      "text/plain": [
       "<Figure size 432x288 with 1 Axes>"
      ]
     },
     "metadata": {
      "needs_background": "light"
     },
     "output_type": "display_data"
    }
   ],
   "source": [
    "rlsa.grafica()"
   ]
  }
 ],
 "metadata": {
  "kernelspec": {
   "display_name": "Python 3",
   "language": "python",
   "name": "python3"
  },
  "language_info": {
   "codemirror_mode": {
    "name": "ipython",
    "version": 3
   },
   "file_extension": ".py",
   "mimetype": "text/x-python",
   "name": "python",
   "nbconvert_exporter": "python",
   "pygments_lexer": "ipython3",
   "version": "3.8.8"
  }
 },
 "nbformat": 4,
 "nbformat_minor": 5
}
